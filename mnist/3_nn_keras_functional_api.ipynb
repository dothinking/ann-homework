{
 "cells": [
  {
   "cell_type": "code",
   "execution_count": 1,
   "metadata": {},
   "outputs": [],
   "source": [
    "import tensorflow as tf"
   ]
  },
  {
   "cell_type": "markdown",
   "metadata": {},
   "source": [
    "Building a model with the functional API works like this:\n",
    "\n",
    "- A layer instance is callable and returns a tensor.\n",
    "- Input tensors and output tensors are used to define a tf.keras.Model instance.\n",
    "- This model is trained just like the Sequential model."
   ]
  },
  {
   "cell_type": "markdown",
   "metadata": {},
   "source": [
    "## 1. Load Dataset"
   ]
  },
  {
   "cell_type": "code",
   "execution_count": 3,
   "metadata": {},
   "outputs": [],
   "source": [
    "mnist = tf.keras.datasets.mnist\n",
    "(x_train, y_train), (x_test, y_test) = mnist.load_data()\n",
    "x_train = x_train.reshape(60000, 28*28).astype('float32') / 255\n",
    "x_test = x_test.reshape(10000, 28*28).astype('float32') / 255"
   ]
  },
  {
   "cell_type": "markdown",
   "metadata": {},
   "source": [
    "## 2. Build Model with Input & Output Tensors"
   ]
  },
  {
   "cell_type": "code",
   "execution_count": 5,
   "metadata": {},
   "outputs": [],
   "source": [
    "# starts from Input layer:\n",
    "# sample dimension is not considered for the `shape` argument,\n",
    "# but counted in the return shape: [None, 28*28] \n",
    "inputs = tf.keras.Input(shape=(28*28,)) \n",
    "\n",
    "# hidden layer 1\n",
    "x = tf.keras.layers.Dense(256, activation='relu')(inputs)\n",
    "\n",
    "# hidden layer 2\n",
    "x = tf.keras.layers.Dense(128, activation='relu')(x)\n",
    "\n",
    "# output layer\n",
    "x = tf.keras.layers.Dense(10)(x)\n",
    "outputs = tf.keras.layers.Softmax()(x)\n",
    "\n",
    "# build model by passing inputs and outputs tansor\n",
    "model = tf.keras.Model(inputs=inputs, outputs=outputs)"
   ]
  },
  {
   "cell_type": "code",
   "execution_count": 8,
   "metadata": {},
   "outputs": [
    {
     "name": "stdout",
     "output_type": "stream",
     "text": [
      "Model: \"model\"\n",
      "_________________________________________________________________\n",
      "Layer (type)                 Output Shape              Param #   \n",
      "=================================================================\n",
      "input_2 (InputLayer)         [(None, 784)]             0         \n",
      "_________________________________________________________________\n",
      "dense (Dense)                (None, 256)               200960    \n",
      "_________________________________________________________________\n",
      "dense_1 (Dense)              (None, 128)               32896     \n",
      "_________________________________________________________________\n",
      "dense_2 (Dense)              (None, 10)                1290      \n",
      "_________________________________________________________________\n",
      "softmax (Softmax)            (None, 10)                0         \n",
      "=================================================================\n",
      "Total params: 235,146\n",
      "Trainable params: 235,146\n",
      "Non-trainable params: 0\n",
      "_________________________________________________________________\n"
     ]
    }
   ],
   "source": [
    "model.summary()\n",
    "# tf.keras.utils.plot_model(model, 'mnist_model.png')"
   ]
  },
  {
   "cell_type": "markdown",
   "metadata": {},
   "source": [
    "## 3. Train and Test Model"
   ]
  },
  {
   "cell_type": "code",
   "execution_count": 10,
   "metadata": {},
   "outputs": [
    {
     "name": "stdout",
     "output_type": "stream",
     "text": [
      "Train on 48000 samples, validate on 12000 samples\n",
      "Epoch 1/5\n",
      "48000/48000 [==============================] - 3s 64us/sample - loss: 1.4812 - accuracy: 0.9806 - val_loss: 1.4902 - val_accuracy: 0.9716\n",
      "Epoch 2/5\n",
      "48000/48000 [==============================] - 2s 48us/sample - loss: 1.4788 - accuracy: 0.9829 - val_loss: 1.4873 - val_accuracy: 0.9740\n",
      "Epoch 3/5\n",
      "48000/48000 [==============================] - 2s 49us/sample - loss: 1.4767 - accuracy: 0.9848 - val_loss: 1.4871 - val_accuracy: 0.9745\n",
      "Epoch 4/5\n",
      "48000/48000 [==============================] - 2s 48us/sample - loss: 1.4756 - accuracy: 0.9860 - val_loss: 1.4867 - val_accuracy: 0.9744\n",
      "Epoch 5/5\n",
      "48000/48000 [==============================] - 2s 49us/sample - loss: 1.4742 - accuracy: 0.9875 - val_loss: 1.4862 - val_accuracy: 0.9753\n",
      "10000/10000 - 1s - loss: 1.4861 - accuracy: 0.9755\n"
     ]
    }
   ],
   "source": [
    "# train\n",
    "model.compile(loss=tf.keras.losses.SparseCategoricalCrossentropy(from_logits=True),\n",
    "              optimizer=tf.keras.optimizers.RMSprop(),\n",
    "              metrics=['accuracy'])\n",
    "history = model.fit(x_train, y_train, batch_size=128, epochs=5, validation_split=0.2)\n",
    "\n",
    "# test\n",
    "test_scores = model.evaluate(x_test, y_test, verbose=2) # loss, accuracy"
   ]
  },
  {
   "cell_type": "code",
   "execution_count": null,
   "metadata": {},
   "outputs": [],
   "source": []
  }
 ],
 "metadata": {
  "kernelspec": {
   "display_name": "Python 3",
   "language": "python",
   "name": "python3"
  },
  "language_info": {
   "codemirror_mode": {
    "name": "ipython",
    "version": 3
   },
   "file_extension": ".py",
   "mimetype": "text/x-python",
   "name": "python",
   "nbconvert_exporter": "python",
   "pygments_lexer": "ipython3",
   "version": "3.6.8"
  }
 },
 "nbformat": 4,
 "nbformat_minor": 4
}
