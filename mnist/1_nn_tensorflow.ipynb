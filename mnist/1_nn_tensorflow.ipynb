{
 "cells": [
  {
   "cell_type": "code",
   "execution_count": 30,
   "metadata": {},
   "outputs": [],
   "source": [
    "import tensorflow as tf"
   ]
  },
  {
   "cell_type": "markdown",
   "metadata": {},
   "source": [
    "## 1. Create Model\n",
    "\n",
    "initialize and update weights manually"
   ]
  },
  {
   "cell_type": "code",
   "execution_count": 31,
   "metadata": {},
   "outputs": [],
   "source": [
    "class MNIST:\n",
    "    '''typical Neural Network structure'''\n",
    "    def __init__(self, n_input, n_output): \n",
    "        '''define all tf variables, so that they can be trained\n",
    "        '''\n",
    "        # variables: weights and biases\n",
    "        self.weights, self.biases = self.init_weights(n_input, n_output)\n",
    "\n",
    "    @staticmethod\n",
    "    def init_var(shape, name=None):\n",
    "        return tf.Variable(tf.random.normal(shape, stddev=0.01, dtype='float64'), name=name)\n",
    "    \n",
    "    def init_weights(self, n_input, n_output):\n",
    "        '''return tuple: (weights, biases)'''\n",
    "        num1, num2 = 256, 128\n",
    "        weights = {\n",
    "            'hidden1': self.init_var([n_input, num1], name='W1'),\n",
    "            'hidden2': self.init_var([num1, num2], name='W2'),\n",
    "            'output':  self.init_var([num2, n_output], name='W3')\n",
    "        }\n",
    "        biases = {\n",
    "            'hidden1': self.init_var([num1], name='b1'),\n",
    "            'hidden2': self.init_var([num2], name='b2'),\n",
    "            'output':  self.init_var([n_output], name='b3')\n",
    "        }        \n",
    "        return weights, biases\n",
    "    \n",
    "    def update_weights(self, tape, loss, learning_rate=0.05):\n",
    "        '''update weights with GDA'''\n",
    "        # collecting variables\n",
    "        var = []\n",
    "        var.extend(self.weights.values())\n",
    "        var.extend(self.biases.values())\n",
    "        \n",
    "        # calculating gradient\n",
    "        grads = tape.gradient(loss, var)\n",
    "        \n",
    "        # w = w - lr * w_grad\n",
    "        for v, g in zip(var, grads):\n",
    "            v.assign_sub(learning_rate * g)\n",
    "        \n",
    "    def build_model(self, inputs):\n",
    "        ''' single hidden layer'''\n",
    "        # hidden layer 1\n",
    "        hidden_1 = tf.add(tf.matmul(inputs, self.weights['hidden1']), self.biases['hidden1'])\n",
    "        hidden_1 = tf.nn.relu(hidden_1)\n",
    "        # hidden layer 2\n",
    "        hidden_2 = tf.add(tf.matmul(hidden_1, self.weights['hidden2']), self.biases['hidden2'])\n",
    "        hidden_2 = tf.nn.relu(hidden_2)\n",
    "        # output layer\n",
    "        return tf.nn.softmax(tf.add(tf.matmul(hidden_2, self.weights['output']), self.biases['output']))    \n",
    "\n",
    "\n",
    "    def build_loss(self, prediction, labels):\n",
    "        '''cross entropy by default'''\n",
    "        return tf.reduce_mean(tf.nn.softmax_cross_entropy_with_logits(logits=prediction, labels=labels))\n",
    "   \n",
    "    def build_accuracy(self, prediction, labels):\n",
    "        '''to be implemented'''\n",
    "        correct_prediction = tf.equal(tf.argmax(prediction, 1), tf.argmax(labels, 1))\n",
    "        return tf.reduce_mean(tf.cast(correct_prediction, tf.float32))"
   ]
  },
  {
   "cell_type": "markdown",
   "metadata": {},
   "source": [
    "## 2. Train Model"
   ]
  },
  {
   "cell_type": "code",
   "execution_count": 65,
   "metadata": {},
   "outputs": [
    {
     "name": "stdout",
     "output_type": "stream",
     "text": [
      "Epoch      0, Step        0: loss = 2.3027   training accuracy = 5.4688%\n",
      "Epoch      0, Step      200: loss = 2.3022   training accuracy = 10.1562%\n",
      "Epoch      0, Step      400: loss = 2.2960   training accuracy = 24.2188%\n",
      "Epoch      1, Step        0: loss = 2.1732   training accuracy = 28.9062%\n",
      "Epoch      1, Step      200: loss = 1.7155   training accuracy = 77.3438%\n",
      "Epoch      1, Step      400: loss = 1.7447   training accuracy = 71.0938%\n",
      "Epoch      2, Step        0: loss = 1.7302   training accuracy = 72.6562%\n",
      "Epoch      2, Step      200: loss = 1.7092   training accuracy = 74.2188%\n",
      "Epoch      2, Step      400: loss = 1.7329   training accuracy = 74.2188%\n",
      "Epoch      3, Step        0: loss = 1.6652   training accuracy = 80.4688%\n",
      "Epoch      3, Step      200: loss = 1.6405   training accuracy = 83.5938%\n",
      "Epoch      3, Step      400: loss = 1.6446   training accuracy = 80.4688%\n",
      "Epoch      4, Step        0: loss = 1.6072   training accuracy = 85.1562%\n",
      "Epoch      4, Step      200: loss = 1.6227   training accuracy = 84.3750%\n",
      "Epoch      4, Step      400: loss = 1.5838   training accuracy = 87.5000%\n"
     ]
    }
   ],
   "source": [
    "# load data\n",
    "mnist = tf.keras.datasets.mnist\n",
    "(x_train, y_train), (x_test, y_test) = mnist.load_data()\n",
    "\n",
    "# batch dataset\n",
    "x_train = x_train / 255.0\n",
    "x_test = x_test / 255.0\n",
    "train_ds = tf.data.Dataset.from_tensor_slices((x_train, y_train)).shuffle(10000).batch(128)\n",
    "\n",
    "# network model\n",
    "m = MNIST(28*28, 10)\n",
    "\n",
    "# training\n",
    "for epoch in range(5):\n",
    "    # train all images batch by batch in a single epoch\n",
    "    for step, (x, y) in enumerate(train_ds):\n",
    "        # forward propagation\n",
    "        with tf.GradientTape() as tape:\n",
    "            x = tf.reshape(x, [-1, 28*28])\n",
    "            predictions = m.build_model(x)            \n",
    "            labels = tf.one_hot(y, depth=10)\n",
    "            loss = m.build_loss(predictions, labels)\n",
    " \n",
    "        # update weights\n",
    "        m.update_weights(tape, loss, learning_rate=0.5)\n",
    " \n",
    "        # display\n",
    "        if step % 200 == 0:\n",
    "            accuracy = m.build_accuracy(predictions, labels).numpy()\n",
    "            print(f\"Epoch {epoch:>6d}, Step {step:>8d}: loss = {loss.numpy():<8.4f} training accuracy = {accuracy:<5.4%}\")"
   ]
  },
  {
   "cell_type": "markdown",
   "metadata": {},
   "source": [
    "## 3. Test Model and Evaluation"
   ]
  },
  {
   "cell_type": "code",
   "execution_count": 66,
   "metadata": {},
   "outputs": [
    {
     "name": "stdout",
     "output_type": "stream",
     "text": [
      "0.9082\n"
     ]
    }
   ],
   "source": [
    "# testing\n",
    "x = tf.reshape(x_test, [-1, 28*28])\n",
    "predictions = m.build_model(x)\n",
    "labels = tf.one_hot(y_test, depth=10)\n",
    "accuracy = m.build_accuracy(predictions, labels).numpy()\n",
    "print(accuracy)"
   ]
  },
  {
   "cell_type": "code",
   "execution_count": 67,
   "metadata": {},
   "outputs": [
    {
     "name": "stdout",
     "output_type": "stream",
     "text": [
      "0.92\n"
     ]
    },
    {
     "data": {
      "image/png": "[encoded data removed]",
      "text/plain": [
       "<Figure size 720x720 with 25 Axes>"
      ]
     },
     "metadata": {},
     "output_type": "display_data"
    }
   ],
   "source": [
    "import matplotlib.pyplot as plt\n",
    "%matplotlib inline\n",
    "\n",
    "# evaluation\n",
    "def evaluate(x, y):\n",
    "    # reshape\n",
    "    x = tf.reshape(x, [-1, 28*28])\n",
    "    y = tf.one_hot(y, depth=10)    \n",
    "    # predict\n",
    "    y_ = m.build_model(x)\n",
    "    accuracy = m.build_accuracy(y_, y).numpy()\n",
    "    label = tf.argmax(y_, 1).numpy()\n",
    "    return accuracy, label\n",
    "\n",
    "num = 5\n",
    "acc, predicted_y = evaluate(x_test[:num**2], y_test[:num**2])\n",
    "print(acc)\n",
    "\n",
    "# plots\n",
    "plt.figure(figsize=(10,10))\n",
    "for i in range(num**2):\n",
    "    plt.subplot(num, num,i+1)\n",
    "    plt.xticks([])\n",
    "    plt.yticks([])\n",
    "    plt.grid(False)\n",
    "    plt.imshow(x_test[i], cmap=plt.cm.binary)\n",
    "    plt.xlabel(f'prediction: {predicted_y[i]}')\n",
    "    \n",
    "    # mark error prediction with red border\n",
    "    if y_test[i] != predicted_y[i]:\n",
    "        ax = plt.gca()\n",
    "        for name, border in ax.spines.items():\n",
    "            border.set_color('red')\n",
    "plt.show()"
   ]
  },
  {
   "cell_type": "code",
   "execution_count": null,
   "metadata": {},
   "outputs": [],
   "source": []
  }
 ],
 "metadata": {
  "kernelspec": {
   "display_name": "Python 3",
   "language": "python",
   "name": "python3"
  },
  "language_info": {
   "codemirror_mode": {
    "name": "ipython",
    "version": 3
   },
   "file_extension": ".py",
   "mimetype": "text/x-python",
   "name": "python",
   "nbconvert_exporter": "python",
   "pygments_lexer": "ipython3",
   "version": "3.6.8"
  }
 },
 "nbformat": 4,
 "nbformat_minor": 4
}
