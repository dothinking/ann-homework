{
 "cells": [
  {
   "cell_type": "code",
   "execution_count": 1,
   "metadata": {},
   "outputs": [],
   "source": [
    "import tensorflow as tf"
   ]
  },
  {
   "cell_type": "markdown",
   "metadata": {},
   "source": [
    "Building a model with the functional API works like this:\n",
    "\n",
    "- A layer instance is callable and returns a tensor.\n",
    "- Input tensors and output tensors are used to define a tf.keras.Model instance.\n",
    "- This model is trained just like the Sequential model."
   ]
  },
  {
   "cell_type": "markdown",
   "metadata": {},
   "source": [
    "# 1. Build Model with Input & Output Tensors"
   ]
  },
  {
   "cell_type": "code",
   "execution_count": 2,
   "metadata": {},
   "outputs": [],
   "source": [
    "# starts from Input layer:\n",
    "# sample dimension is not considered for the `shape` argument,\n",
    "# but counted in the return shape: [None, 28*28] \n",
    "inputs = tf.keras.Input(shape=(28*28,)) \n",
    "\n",
    "# hidden layer 1\n",
    "x = tf.keras.layers.Dense(256, activation='relu')(inputs)\n",
    "\n",
    "# hidden layer 2\n",
    "x = tf.keras.layers.Dense(128, activation='relu')(x)\n",
    "\n",
    "# output layer\n",
    "x = tf.keras.layers.Dense(10)(x)\n",
    "outputs = tf.keras.layers.Softmax()(x)\n",
    "\n",
    "# build model by passing inputs and outputs tansor\n",
    "model = tf.keras.Model(inputs=inputs, outputs=outputs)"
   ]
  },
  {
   "cell_type": "code",
   "execution_count": 3,
   "metadata": {},
   "outputs": [
    {
     "name": "stdout",
     "output_type": "stream",
     "text": [
      "Model: \"model\"\n",
      "_________________________________________________________________\n",
      "Layer (type)                 Output Shape              Param #   \n",
      "=================================================================\n",
      "input_1 (InputLayer)         [(None, 784)]             0         \n",
      "_________________________________________________________________\n",
      "dense (Dense)                (None, 256)               200960    \n",
      "_________________________________________________________________\n",
      "dense_1 (Dense)              (None, 128)               32896     \n",
      "_________________________________________________________________\n",
      "dense_2 (Dense)              (None, 10)                1290      \n",
      "_________________________________________________________________\n",
      "softmax (Softmax)            (None, 10)                0         \n",
      "=================================================================\n",
      "Total params: 235,146\n",
      "Trainable params: 235,146\n",
      "Non-trainable params: 0\n",
      "_________________________________________________________________\n"
     ]
    }
   ],
   "source": [
    "model.summary()"
   ]
  },
  {
   "cell_type": "code",
   "execution_count": 5,
   "metadata": {},
   "outputs": [
    {
     "data": {
      "image/png": "[encoded data removed]",
      "text/plain": [
       "<IPython.core.display.Image object>"
      ]
     },
     "execution_count": 5,
     "metadata": {},
     "output_type": "execute_result"
    }
   ],
   "source": [
    "# Windows 10:\n",
    "# 1. pip install pydot, graphviz\n",
    "# 2. download graphviz: https://graphviz.gitlab.io/_pages/Download/Download_windows.html\n",
    "#    then add to PATH env. variable\n",
    "tf.keras.utils.plot_model(model, to_file='mnist_model.png', show_shapes=True)"
   ]
  },
  {
   "cell_type": "markdown",
   "metadata": {},
   "source": [
    "## 2. Train and Test Model"
   ]
  },
  {
   "cell_type": "code",
   "execution_count": 5,
   "metadata": {},
   "outputs": [],
   "source": [
    "# compiling model\n",
    "model.compile(loss=tf.keras.losses.SparseCategoricalCrossentropy(from_logits=True),\n",
    "              optimizer=tf.keras.optimizers.RMSprop(),\n",
    "              metrics=['accuracy'])"
   ]
  },
  {
   "cell_type": "code",
   "execution_count": 6,
   "metadata": {},
   "outputs": [],
   "source": [
    "# A callback is an object passed to a model to customize and extend its behavior during training\n",
    "import os\n",
    "callbacks = [\n",
    "    # Interrupt training if `val_loss` stops improving for over 2 epochs\n",
    "    tf.keras.callbacks.EarlyStopping(patience=2, monitor='val_loss'),\n",
    "    # Write TensorBoard logs to `./logs` directory\n",
    "    tf.keras.callbacks.TensorBoard(log_dir=os.path.join('tensorboard')) # start visualization: tensorboard --logdir mylogdir\n",
    "]"
   ]
  },
  {
   "cell_type": "code",
   "execution_count": 7,
   "metadata": {
    "scrolled": true
   },
   "outputs": [
    {
     "name": "stdout",
     "output_type": "stream",
     "text": [
      "Train on 48000 samples, validate on 12000 samples\n",
      "Epoch 1/5\n",
      "48000/48000 [==============================] - 3s 67us/sample - loss: 1.5842 - accuracy: 0.8924 - val_loss: 1.5247 - val_accuracy: 0.9410\n",
      "Epoch 2/5\n",
      "48000/48000 [==============================] - 3s 54us/sample - loss: 1.5164 - accuracy: 0.9485 - val_loss: 1.5111 - val_accuracy: 0.9530\n",
      "Epoch 3/5\n",
      "48000/48000 [==============================] - 3s 56us/sample - loss: 1.5015 - accuracy: 0.9620 - val_loss: 1.5013 - val_accuracy: 0.9615\n",
      "Epoch 4/5\n",
      "48000/48000 [==============================] - 3s 54us/sample - loss: 1.4929 - accuracy: 0.9700 - val_loss: 1.4953 - val_accuracy: 0.9672\n",
      "Epoch 5/5\n",
      "48000/48000 [==============================] - 3s 53us/sample - loss: 1.4881 - accuracy: 0.9744 - val_loss: 1.4947 - val_accuracy: 0.9672\n"
     ]
    }
   ],
   "source": [
    "# load dataset\n",
    "mnist = tf.keras.datasets.mnist\n",
    "(x_train, y_train), (x_test, y_test) = mnist.load_data()\n",
    "x_train = x_train.reshape(60000, 28*28).astype('float32') / 255\n",
    "x_test = x_test.reshape(10000, 28*28).astype('float32') / 255\n",
    "\n",
    "# training\n",
    "history = model.fit(x_train, y_train,\n",
    "                    batch_size=128,\n",
    "                    epochs=5, \n",
    "                    validation_split=0.2, # or set validation set explictly: validation_data=(x_test, y_test)\n",
    "                    callbacks=callbacks)"
   ]
  },
  {
   "cell_type": "code",
   "execution_count": 8,
   "metadata": {},
   "outputs": [
    {
     "name": "stdout",
     "output_type": "stream",
     "text": [
      "10000/10000 - 1s - loss: 1.4960 - accuracy: 0.9657\n"
     ]
    }
   ],
   "source": [
    "# test\n",
    "test_scores = model.evaluate(x_test, y_test, verbose=2) # loss, accuracy"
   ]
  },
  {
   "cell_type": "code",
   "execution_count": null,
   "metadata": {},
   "outputs": [],
   "source": []
  }
 ],
 "metadata": {
  "kernelspec": {
   "display_name": "Python 3",
   "language": "python",
   "name": "python3"
  },
  "language_info": {
   "codemirror_mode": {
    "name": "ipython",
    "version": 3
   },
   "file_extension": ".py",
   "mimetype": "text/x-python",
   "name": "python",
   "nbconvert_exporter": "python",
   "pygments_lexer": "ipython3",
   "version": "3.6.8"
  }
 },
 "nbformat": 4,
 "nbformat_minor": 4
}
