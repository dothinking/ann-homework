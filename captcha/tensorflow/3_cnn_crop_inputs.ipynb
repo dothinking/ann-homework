{
 "cells": [
  {
   "cell_type": "code",
   "execution_count": null,
   "metadata": {},
   "outputs": [],
   "source": [
    "import tensorflow as tf\n",
    "from prepare_dataset import create_dataset_from_tfrecord"
   ]
  },
  {
   "cell_type": "markdown",
   "metadata": {},
   "source": [
    "## Build CNN Model"
   ]
  },
  {
   "cell_type": "code",
   "execution_count": null,
   "metadata": {},
   "outputs": [],
   "source": [
    "def build_conv_layers(x, kernels, prefix):\n",
    "    # conv layers\n",
    "    for i, num in enumerate(kernels, start=1):\n",
    "        # conv layer i\n",
    "        x = tf.keras.layers.Conv2D(num, (3, 3), padding='same', name=f'{prefix}_conv_{i}')(x)\n",
    "        x = tf.keras.layers.MaxPool2D((2, 2), padding='same', name=f'{prefix}_max_pool_{i}')(x)\n",
    "        x = tf.keras.layers.BatchNormalization(name=f'{prefix}_BN_{i}')(x)\n",
    "        x = tf.keras.layers.Activation('relu')(x)\n",
    "\n",
    "    return x\n",
    "\n",
    "\n",
    "def CNN_crop_inputs(image_shape, n_class=26, name='captcha', output_label='labels'):\n",
    "    # input\n",
    "    image_input = tf.keras.Input(shape=image_shape, name='input_image')\n",
    "    \n",
    "    # split into two sets: \n",
    "    # - half image in left side: the first label\n",
    "    # - hale image in right side: the last label\n",
    "    H, W, C = image_shape\n",
    "    x0 = tf.keras.layers.Cropping2D(cropping=((0, 0), (0, int(W/2))), name='left_half')(image_input)\n",
    "    x3 = tf.keras.layers.Cropping2D(cropping=((0, 0), (int(W/2), 0)), name='right_half')(image_input)\n",
    "    \n",
    "    # build conv layers\n",
    "    x0 = build_conv_layers(x0, [16, 32], 'Pre_A0')\n",
    "    x3 = build_conv_layers(x3, [16, 32], 'Pre_A3')\n",
    "    x12 = tf.keras.layers.Concatenate(axis=2)([x0, x3]) # (s, h, w, c) concatenate on dimension w\n",
    "    \n",
    "    x0 = build_conv_layers(x0, [32, 64, 64], 'A0')\n",
    "    x12 = build_conv_layers(x12, [32, 64, 64], 'A1_2')\n",
    "    x3 = build_conv_layers(x3, [32, 64, 64], 'A3')\n",
    "    \n",
    "    # dense layer\n",
    "    x0 = tf.keras.layers.Flatten()(x0) # flatten\n",
    "    x0 = tf.keras.layers.Dense(256, activation='relu')(x0)\n",
    "    x0 = tf.keras.layers.Dropout(0.3)(x0)\n",
    "    \n",
    "    x12 = tf.keras.layers.Flatten()(x12) # flatten\n",
    "    x12 = tf.keras.layers.Dense(256, activation='relu')(x12)\n",
    "    x12 = tf.keras.layers.Dropout(0.3)(x12)\n",
    "    \n",
    "    x3 = tf.keras.layers.Flatten()(x3) # flatten\n",
    "    x3 = tf.keras.layers.Dense(256, activation='relu')(x3)\n",
    "    x3 = tf.keras.layers.Dropout(0.3)(x3)\n",
    "\n",
    "    # combine multi-outputs\n",
    "    labels = [\n",
    "        tf.keras.layers.Dense(n_class, name=f'{output_label}_0')(x0),\n",
    "        tf.keras.layers.Dense(n_class, name=f'{output_label}_1')(x12),\n",
    "        tf.keras.layers.Dense(n_class, name=f'{output_label}_2')(x12),\n",
    "        tf.keras.layers.Dense(n_class, name=f'{output_label}_3')(x3)\n",
    "    ] \n",
    "\n",
    "    # build model\n",
    "    model = tf.keras.Model(inputs=image_input, outputs=labels, name=name)\n",
    "    \n",
    "    return model\n"
   ]
  },
  {
   "cell_type": "code",
   "execution_count": null,
   "metadata": {},
   "outputs": [],
   "source": [
    "image_shape = (60, 120, 1)\n",
    "n_class = 26\n",
    "\n",
    "model = CNN_crop_inputs(image_shape, n_class, name='cnn_crop_inputs', output_label='A')\n",
    "model.summary()"
   ]
  },
  {
   "cell_type": "code",
   "execution_count": null,
   "metadata": {},
   "outputs": [],
   "source": [
    "tf.keras.utils.plot_model(model, f'{model.name}.png', show_shapes=True)"
   ]
  },
  {
   "cell_type": "markdown",
   "metadata": {},
   "source": [
    "## Train Model"
   ]
  },
  {
   "cell_type": "code",
   "execution_count": null,
   "metadata": {},
   "outputs": [],
   "source": [
    "# load dataset\n",
    "train_ds = create_dataset_from_tfrecord('dataset/qq_captcha_train.tfrecords', batch_size=128, image_size=(60, 120), label_prefix='A')\n",
    "test_ds = create_dataset_from_tfrecord('dataset/qq_captcha_test.tfrecords', batch_size=128, image_size=(60, 120), label_prefix='A')"
   ]
  },
  {
   "cell_type": "code",
   "execution_count": null,
   "metadata": {},
   "outputs": [],
   "source": [
    "# set loss for each output lables, or set a same loss for all labels\n",
    "# e.g. loss={ f'labels_{i}': \n",
    "#   tf.keras.losses.SparseCategoricalCrossentropy(from_logits=True) for i in range(n_labels)}\n",
    "model.compile(optimizer=tf.keras.optimizers.RMSprop(0.005, 0.9),\n",
    "              loss=tf.keras.losses.SparseCategoricalCrossentropy(from_logits=True),\n",
    "              metrics=['accuracy'])"
   ]
  },
  {
   "cell_type": "code",
   "execution_count": null,
   "metadata": {},
   "outputs": [],
   "source": [
    "import os\n",
    "\n",
    "# load model if exists\n",
    "model_dir = os.path.join('models', model.name)\n",
    "if os.path.exists(model_dir):\n",
    "    model = tf.keras.models.load_model(model_dir)\n",
    "\n",
    "model.fit(train_ds, \n",
    "          epochs=2, \n",
    "          callbacks=[tf.keras.callbacks.TensorBoard(log_dir=os.path.join('tensorboard'))])"
   ]
  },
  {
   "cell_type": "code",
   "execution_count": null,
   "metadata": {},
   "outputs": [],
   "source": []
  }
 ],
 "metadata": {
  "kernelspec": {
   "display_name": "Python 3",
   "language": "python",
   "name": "python3"
  },
  "language_info": {
   "codemirror_mode": {
    "name": "ipython",
    "version": 3
   },
   "file_extension": ".py",
   "mimetype": "text/x-python",
   "name": "python",
   "nbconvert_exporter": "python",
   "pygments_lexer": "ipython3",
   "version": "3.6.8"
  }
 },
 "nbformat": 4,
 "nbformat_minor": 4
}
