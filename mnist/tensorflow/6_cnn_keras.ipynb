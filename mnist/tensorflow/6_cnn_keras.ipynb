{
 "cells": [
  {
   "cell_type": "code",
   "execution_count": 1,
   "metadata": {},
   "outputs": [],
   "source": [
    "import tensorflow as tf\n",
    "import matplotlib.pyplot as plt\n",
    "%matplotlib inline"
   ]
  },
  {
   "cell_type": "code",
   "execution_count": 7,
   "metadata": {},
   "outputs": [
    {
     "name": "stdout",
     "output_type": "stream",
     "text": [
      "Model: \"mnist_cnn\"\n",
      "_________________________________________________________________\n",
      "Layer (type)                 Output Shape              Param #   \n",
      "=================================================================\n",
      "conv2d_8 (Conv2D)            (None, 28, 28, 32)        3904      \n",
      "_________________________________________________________________\n",
      "max_pooling2d_5 (MaxPooling2 (None, 14, 14, 32)        0         \n",
      "_________________________________________________________________\n",
      "conv2d_9 (Conv2D)            (None, 14, 14, 64)        51264     \n",
      "_________________________________________________________________\n",
      "max_pooling2d_6 (MaxPooling2 (None, 7, 7, 64)          0         \n",
      "_________________________________________________________________\n",
      "conv2d_10 (Conv2D)           (None, 7, 7, 128)         73856     \n",
      "_________________________________________________________________\n",
      "conv2d_11 (Conv2D)           (None, 7, 7, 128)         147584    \n",
      "_________________________________________________________________\n",
      "conv2d_12 (Conv2D)           (None, 7, 7, 64)          73792     \n",
      "_________________________________________________________________\n",
      "max_pooling2d_7 (MaxPooling2 (None, 4, 4, 64)          0         \n",
      "_________________________________________________________________\n",
      "flatten_1 (Flatten)          (None, 1024)              0         \n",
      "_________________________________________________________________\n",
      "dense_3 (Dense)              (None, 625)               640625    \n",
      "_________________________________________________________________\n",
      "dropout_2 (Dropout)          (None, 625)               0         \n",
      "_________________________________________________________________\n",
      "dense_4 (Dense)              (None, 625)               391250    \n",
      "_________________________________________________________________\n",
      "dropout_3 (Dropout)          (None, 625)               0         \n",
      "_________________________________________________________________\n",
      "dense_5 (Dense)              (None, 10)                6260      \n",
      "=================================================================\n",
      "Total params: 1,388,535\n",
      "Trainable params: 1,388,535\n",
      "Non-trainable params: 0\n",
      "_________________________________________________________________\n"
     ]
    }
   ],
   "source": [
    "# buuld a sequential model with a similar Alex network structure\n",
    "model = tf.keras.models.Sequential([\n",
    "    # conv layer 1\n",
    "    tf.keras.layers.Conv2D(32, (11, 11), input_shape=(28, 28, 1), padding='same'),\n",
    "    tf.keras.layers.MaxPool2D((2, 2), padding='same'), # a same stride with kernel size = 2\n",
    "    # conv layer 2\n",
    "    tf.keras.layers.Conv2D(64, (5, 5), padding='same'),\n",
    "    tf.keras.layers.MaxPool2D((2, 2), padding='same'), # a same stride with kernel size = 2\n",
    "    # conv layer 3\n",
    "    tf.keras.layers.Conv2D(128, (3, 3), padding='same'),\n",
    "    # conv layer 4\n",
    "    tf.keras.layers.Conv2D(128, (3, 3), padding='same'),\n",
    "    # conv layer 5\n",
    "    tf.keras.layers.Conv2D(64, (3, 3), padding='same'),\n",
    "    tf.keras.layers.MaxPool2D((2, 2), padding='same'),\n",
    "    # flatten\n",
    "    tf.keras.layers.Flatten(),\n",
    "    # dense layer 1\n",
    "    tf.keras.layers.Dense(625, activation='relu'),\n",
    "    tf.keras.layers.Dropout(0.5),\n",
    "    # dense layer 2\n",
    "    tf.keras.layers.Dense(625, activation='relu'),\n",
    "    tf.keras.layers.Dropout(0.5),\n",
    "    # output layer\n",
    "    tf.keras.layers.Dense(10)\n",
    "], name='mnist_cnn')\n",
    "model.summary()"
   ]
  },
  {
   "cell_type": "code",
   "execution_count": 8,
   "metadata": {},
   "outputs": [],
   "source": [
    "# load dataset\n",
    "mnist = tf.keras.datasets.mnist\n",
    "\n",
    "(x_train, y_train), (x_test, y_test) = mnist.load_data()\n",
    "x_train, x_test = x_train / 255.0, x_test / 255.0\n",
    "\n",
    "# Add a channels dimension\n",
    "x_train = x_train[..., tf.newaxis]\n",
    "x_test = x_test[..., tf.newaxis]"
   ]
  },
  {
   "cell_type": "code",
   "execution_count": 10,
   "metadata": {},
   "outputs": [
    {
     "name": "stdout",
     "output_type": "stream",
     "text": [
      "Train on 60000 samples\n",
      "Epoch 1/5\n",
      "60000/60000 [==============================] - 86s 1ms/sample - loss: 0.1613 - accuracy: 0.9672\n",
      "Epoch 2/5\n",
      "60000/60000 [==============================] - 89s 1ms/sample - loss: 0.1302 - accuracy: 0.9726\n",
      "Epoch 3/5\n",
      "60000/60000 [==============================] - 87s 1ms/sample - loss: 0.1262 - accuracy: 0.9734\n",
      "Epoch 4/5\n",
      "60000/60000 [==============================] - 85s 1ms/sample - loss: 0.1176 - accuracy: 0.9750\n",
      "Epoch 5/5\n",
      "60000/60000 [==============================] - 85s 1ms/sample - loss: 0.1179 - accuracy: 0.9743\n"
     ]
    }
   ],
   "source": [
    "# compile and train the model\n",
    "model.compile(optimizer='adam',\n",
    "              loss=tf.keras.losses.SparseCategoricalCrossentropy(from_logits=True),\n",
    "              metrics=['accuracy'])\n",
    "\n",
    "history = model.fit(x_train, y_train, epochs=5, batch_size=128)"
   ]
  },
  {
   "cell_type": "code",
   "execution_count": 14,
   "metadata": {},
   "outputs": [
    {
     "data": {
      "text/plain": [
       "(0.95, 1)"
      ]
     },
     "execution_count": 14,
     "metadata": {},
     "output_type": "execute_result"
    },
    {
     "data": {
      "image/png": "[encoded data removed]",
      "text/plain": [
       "<Figure size 432x288 with 1 Axes>"
      ]
     },
     "metadata": {
      "needs_background": "light"
     },
     "output_type": "display_data"
    }
   ],
   "source": [
    "# plot accuracy v.s. epoch\n",
    "plt.plot(history.history['accuracy'], label='accuracy')\n",
    "plt.xlabel('Epoch')\n",
    "plt.ylabel('Accuracy')\n",
    "plt.ylim([0.95, 1])"
   ]
  },
  {
   "cell_type": "code",
   "execution_count": 15,
   "metadata": {},
   "outputs": [
    {
     "name": "stdout",
     "output_type": "stream",
     "text": [
      "10000/10000 - 3s - loss: 0.0521 - accuracy: 0.9887\n"
     ]
    },
    {
     "data": {
      "text/plain": [
       "[0.05209383871341365, 0.9887]"
      ]
     },
     "execution_count": 15,
     "metadata": {},
     "output_type": "execute_result"
    }
   ],
   "source": [
    "model.evaluate(x_test, y_test, verbose=2)"
   ]
  },
  {
   "cell_type": "code",
   "execution_count": null,
   "metadata": {},
   "outputs": [],
   "source": []
  }
 ],
 "metadata": {
  "kernelspec": {
   "display_name": "Python 3",
   "language": "python",
   "name": "python3"
  },
  "language_info": {
   "codemirror_mode": {
    "name": "ipython",
    "version": 3
   },
   "file_extension": ".py",
   "mimetype": "text/x-python",
   "name": "python",
   "nbconvert_exporter": "python",
   "pygments_lexer": "ipython3",
   "version": "3.6.8"
  }
 },
 "nbformat": 4,
 "nbformat_minor": 4
}
