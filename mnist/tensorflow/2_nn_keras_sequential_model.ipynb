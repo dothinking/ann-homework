{
 "cells": [
  {
   "cell_type": "code",
   "execution_count": 20,
   "metadata": {},
   "outputs": [],
   "source": [
    "import tensorflow as tf"
   ]
  },
  {
   "cell_type": "markdown",
   "metadata": {},
   "source": [
    "# 1. Build Sequential Model"
   ]
  },
  {
   "cell_type": "code",
   "execution_count": 21,
   "metadata": {},
   "outputs": [],
   "source": [
    "# define model by stacking layers\n",
    "model = tf.keras.models.Sequential([\n",
    "  tf.keras.layers.Flatten(input_shape=(28, 28)),\n",
    "  tf.keras.layers.Dense(256, activation='relu'),\n",
    "  tf.keras.layers.Dense(128, activation='relu'),\n",
    "  tf.keras.layers.Dense(10),\n",
    "  tf.keras.layers.Softmax()\n",
    "])\n",
    "\n",
    "# compile model by setting loss function, optimizer, etc\n",
    "loss_fn = tf.keras.losses.SparseCategoricalCrossentropy(from_logits=True)\n",
    "model.compile(optimizer='adam', loss=loss_fn, metrics=['accuracy'])"
   ]
  },
  {
   "cell_type": "markdown",
   "metadata": {},
   "source": [
    "## 2. Train Model"
   ]
  },
  {
   "cell_type": "code",
   "execution_count": 22,
   "metadata": {},
   "outputs": [
    {
     "name": "stdout",
     "output_type": "stream",
     "text": [
      "Train on 60000 samples\n",
      "Epoch 1/5\n",
      "60000/60000 [==============================] - 7s 124us/sample - loss: 1.5545 - accuracy: 0.9141\n",
      "Epoch 2/5\n",
      "60000/60000 [==============================] - 7s 121us/sample - loss: 1.5056 - accuracy: 0.9567\n",
      "Epoch 3/5\n",
      "60000/60000 [==============================] - 7s 115us/sample - loss: 1.4964 - accuracy: 0.9656\n",
      "Epoch 4/5\n",
      "60000/60000 [==============================] - 7s 114us/sample - loss: 1.4909 - accuracy: 0.9705\n",
      "Epoch 5/5\n",
      "60000/60000 [==============================] - 7s 114us/sample - loss: 1.4880 - accuracy: 0.9735\n"
     ]
    },
    {
     "data": {
      "text/plain": [
       "<tensorflow.python.keras.callbacks.History at 0x1c27e720550>"
      ]
     },
     "execution_count": 22,
     "metadata": {},
     "output_type": "execute_result"
    }
   ],
   "source": [
    "# load dataset\n",
    "mnist = tf.keras.datasets.mnist\n",
    "(x_train, y_train), (x_test, y_test) = mnist.load_data()\n",
    "x_train, x_test = x_train / 255.0, x_test / 255.0\n",
    "\n",
    "# train\n",
    "model.fit(x_train, y_train, epochs=5)"
   ]
  },
  {
   "cell_type": "markdown",
   "metadata": {},
   "source": [
    "## 3. Test and Evaluation"
   ]
  },
  {
   "cell_type": "code",
   "execution_count": 23,
   "metadata": {},
   "outputs": [
    {
     "name": "stdout",
     "output_type": "stream",
     "text": [
      "10000/10000 - 1s - loss: 1.4925 - accuracy: 0.9688\n"
     ]
    }
   ],
   "source": [
    "loss, accuracy = model.evaluate(x_test,  y_test, verbose=2)"
   ]
  },
  {
   "cell_type": "code",
   "execution_count": 24,
   "metadata": {},
   "outputs": [
    {
     "name": "stdout",
     "output_type": "stream",
     "text": [
      "25/25 - 0s - loss: 1.4628 - accuracy: 1.0000\n",
      "WARNING:tensorflow:Layer flatten_3 is casting an input tensor from dtype float64 to the layer's dtype of float32, which is new behavior in TensorFlow 2.  The layer has dtype float32 because it's dtype defaults to floatx.\n",
      "\n",
      "If you intended to run this layer in float32, you can safely ignore this warning. If in doubt, this warning is likely only an issue if you are porting a TensorFlow 1.X model to TensorFlow 2.\n",
      "\n",
      "To change all layers to have dtype float64 by default, call `tf.keras.backend.set_floatx('float64')`. To change just this layer, pass dtype='float64' to the layer constructor. If you are the author of this layer, you can disable autocasting by passing autocast=False to the base Layer constructor.\n",
      "\n"
     ]
    },
    {
     "data": {
      "image/png": "[encoded data removed]",
      "text/plain": [
       "<Figure size 720x720 with 25 Axes>"
      ]
     },
     "metadata": {},
     "output_type": "display_data"
    }
   ],
   "source": [
    "import matplotlib.pyplot as plt\n",
    "%matplotlib inline\n",
    "\n",
    "# evaluation\n",
    "def evaluate(x, y):    \n",
    "    loss, accuracy = model.evaluate(x,  y, verbose=2)\n",
    "    y_ = model(x)\n",
    "    label = tf.argmax(y_, 1).numpy()\n",
    "    return accuracy, label\n",
    "\n",
    "num = 5\n",
    "acc, predicted_y = evaluate(x_test[:num**2], y_test[:num**2])\n",
    "\n",
    "# plots\n",
    "plt.figure(figsize=(10,10))\n",
    "for i in range(num**2):\n",
    "    plt.subplot(num, num,i+1)\n",
    "    plt.xticks([])\n",
    "    plt.yticks([])\n",
    "    plt.grid(False)\n",
    "    plt.imshow(x_test[i], cmap=plt.cm.binary)\n",
    "    plt.xlabel(f'prediction: {predicted_y[i]}')\n",
    "    \n",
    "    # mark error prediction with red border\n",
    "    if y_test[i] != predicted_y[i]:\n",
    "        ax = plt.gca()\n",
    "        for name, border in ax.spines.items():\n",
    "            border.set_color('red')\n",
    "plt.show()"
   ]
  },
  {
   "cell_type": "markdown",
   "metadata": {},
   "source": [
    "## 4. Save and Restore Model\n",
    "\n",
    "- save entire model, including:\n",
    "    - The model's architecture\n",
    "    - The model's weight values learned during training\n",
    "    - The model's training config passed to `compile()` if any\n",
    "- save mdoel architecture only\n",
    "- save model weights only\n",
    "\n",
    "https://tensorflow.google.cn/guide/keras/save_and_serialize"
   ]
  },
  {
   "cell_type": "code",
   "execution_count": 26,
   "metadata": {},
   "outputs": [],
   "source": [
    "# Save the model\n",
    "path = 'ckpt_nn/mnist_model.h5'\n",
    "model.save(path)\n",
    "predictions = model.predict(x_test)"
   ]
  },
  {
   "cell_type": "code",
   "execution_count": 28,
   "metadata": {},
   "outputs": [],
   "source": [
    "# Recreate the exact same model purely from the file\n",
    "new_model = tf.keras.models.load_model(path)\n",
    "new_predictions = new_model.predict(x_test)"
   ]
  },
  {
   "cell_type": "code",
   "execution_count": 30,
   "metadata": {},
   "outputs": [],
   "source": [
    "# compare results\n",
    "import numpy as np\n",
    "np.testing.assert_allclose(predictions, new_predictions, rtol=1e-6, atol=1e-6)"
   ]
  },
  {
   "cell_type": "code",
   "execution_count": null,
   "metadata": {},
   "outputs": [],
   "source": []
  }
 ],
 "metadata": {
  "kernelspec": {
   "display_name": "Python 3",
   "language": "python",
   "name": "python3"
  },
  "language_info": {
   "codemirror_mode": {
    "name": "ipython",
    "version": 3
   },
   "file_extension": ".py",
   "mimetype": "text/x-python",
   "name": "python",
   "nbconvert_exporter": "python",
   "pygments_lexer": "ipython3",
   "version": "3.6.8"
  }
 },
 "nbformat": 4,
 "nbformat_minor": 4
}
