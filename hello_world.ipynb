{
 "cells": [
  {
   "cell_type": "code",
   "execution_count": 2,
   "metadata": {},
   "outputs": [],
   "source": [
    "import tensorflow as tf\n",
    "import numpy as np"
   ]
  },
  {
   "cell_type": "code",
   "execution_count": 3,
   "metadata": {},
   "outputs": [
    {
     "name": "stdout",
     "output_type": "stream",
     "text": [
      "2.1.0\n"
     ]
    }
   ],
   "source": [
    "print(tf.__version__)"
   ]
  },
  {
   "cell_type": "markdown",
   "metadata": {},
   "source": [
    "## 1. A brief summary of major changes to TensorFlow 1.x\n",
    "\n",
    "- API Cleanup\n",
    "- Eager execution\n",
    "- No more globals\n",
    "- Functions, not sessions"
   ]
  },
  {
   "cell_type": "code",
   "execution_count": 6,
   "metadata": {},
   "outputs": [
    {
     "name": "stdout",
     "output_type": "stream",
     "text": [
      "True\n",
      "False\n"
     ]
    }
   ],
   "source": [
    "# In Tensorflow 2.0, eager execution is enabled by default.\n",
    "f = tf.executing_eagerly()\n",
    "print(f)\n",
    "\n",
    "# However, this API might return False in the following use cases:\n",
    "# https://tensorflow.google.cn/api_docs/python/tf/executing_eagerly\n",
    "# e.g.\n",
    "# - tf.compat.v1.enable_eager_execution()\n",
    "# - @tf.function\n",
    "@tf.function\n",
    "def test():\n",
    "    return tf.executing_eagerly()\n",
    "f = test()\n",
    "print(f.numpy())"
   ]
  },
  {
   "cell_type": "markdown",
   "metadata": {},
   "source": [
    "## 2. First example\n",
    "\n",
    "$a=(\\vec{b}+c)\\cdot(c+2)$"
   ]
  },
  {
   "cell_type": "code",
   "execution_count": 14,
   "metadata": {},
   "outputs": [
    {
     "name": "stdout",
     "output_type": "stream",
     "text": [
      "tf.Tensor(2.0, shape=(), dtype=float32)\n",
      "2.0\n"
     ]
    }
   ],
   "source": [
    "# create a symbolic tensor: constant\n",
    "# use .numpy() to get the value holding by this tensor when eager execution is enabled\n",
    "# \n",
    "const = tf.constant(2.0, name='const')\n",
    "print(const)\n",
    "print(const.numpy())\n",
    "\n",
    "# t.eval() is a shortcut for calling tf.compat.v1.get_default_session().run(t):\n",
    "# After the graph has been launched in a session, the value of the Tensor \n",
    "# can be computed by passing it to tf.Session.run."
   ]
  },
  {
   "cell_type": "code",
   "execution_count": 17,
   "metadata": {},
   "outputs": [
    {
     "name": "stdout",
     "output_type": "stream",
     "text": [
      "rank: 2\n",
      "shape: (10, 1)\n",
      "dtype: <dtype: 'float32'>\n",
      "data: \n",
      " [[ 3.]\n",
      " [ 6.]\n",
      " [ 9.]\n",
      " [12.]\n",
      " [15.]\n",
      " [18.]\n",
      " [21.]\n",
      " [24.]\n",
      " [27.]\n",
      " [30.]]\n"
     ]
    }
   ],
   "source": [
    "# auto convert between np.ndarray and tf.Tensor\n",
    "b = np.arange(0, 10)[:, np.newaxis]\n",
    "\n",
    "# symbolic tensor: variable\n",
    "c = tf.Variable(1.0, dtype=tf.float32, name='c')\n",
    "\n",
    "# operations\n",
    "d = tf.add(b, c, name='d')\n",
    "e = tf.add(c, const, name='e')\n",
    "a = tf.multiply(d, e, name='a') # same with a = d * e\n",
    "\n",
    "print(f'rank: {tf.rank(a).numpy()}\\nshape: {a.shape}\\ndtype: {a.dtype}\\ndata: \\n {a.numpy()}')"
   ]
  },
  {
   "cell_type": "markdown",
   "metadata": {},
   "source": [
    "## 3. `tf.GradientTape`: to trace operations for computing gradients later"
   ]
  },
  {
   "cell_type": "code",
   "execution_count": 21,
   "metadata": {},
   "outputs": [
    {
     "name": "stdout",
     "output_type": "stream",
     "text": [
      "tf.Tensor([[4.]], shape=(1, 1), dtype=float32) tf.Tensor([[2.]], shape=(1, 1), dtype=float32) None\n"
     ]
    }
   ],
   "source": [
    "# By default, the resources held by a GradientTape are released \n",
    "# as soon as GradientTape.gradient() method is called. \n",
    "# To compute multiple gradients over the same computation, \n",
    "# create a persistent gradient tape by setting `persistent=True`\n",
    "# \n",
    "x1 = tf.Variable([[2.0]])\n",
    "x2 = tf.constant([[3.0]])\n",
    "with tf.GradientTape(persistent=True) as tape: # persistent=True\n",
    "    y1 = x1 * x1    \n",
    "    tape.watch(x2) # though x2 is not a variable, it is watched explictly\n",
    "    y2 = x1 * x2\n",
    "\n",
    "# now compute gradients\n",
    "dy1_x1 = tape.gradient(y1, x1)\n",
    "dy2_x2 = tape.gradient(y2, x2)\n",
    "dy1_x2 = tape.gradient(y1, x2)\n",
    "\n",
    "print(dy1_x1, dy2_x2, dy1_x2)"
   ]
  },
  {
   "cell_type": "code",
   "execution_count": null,
   "metadata": {},
   "outputs": [],
   "source": []
  }
 ],
 "metadata": {
  "kernelspec": {
   "display_name": "Python 3",
   "language": "python",
   "name": "python3"
  },
  "language_info": {
   "codemirror_mode": {
    "name": "ipython",
    "version": 3
   },
   "file_extension": ".py",
   "mimetype": "text/x-python",
   "name": "python",
   "nbconvert_exporter": "python",
   "pygments_lexer": "ipython3",
   "version": "3.6.8"
  }
 },
 "nbformat": 4,
 "nbformat_minor": 4
}
