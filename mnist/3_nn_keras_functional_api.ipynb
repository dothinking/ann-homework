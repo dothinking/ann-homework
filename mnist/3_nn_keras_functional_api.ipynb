{
 "cells": [
  {
   "cell_type": "code",
   "execution_count": 1,
   "metadata": {},
   "outputs": [],
   "source": [
    "import tensorflow as tf"
   ]
  },
  {
   "cell_type": "markdown",
   "metadata": {},
   "source": [
    "Building a model with the functional API works like this:\n",
    "\n",
    "- A layer instance is callable and returns a tensor.\n",
    "- Input tensors and output tensors are used to define a tf.keras.Model instance.\n",
    "- This model is trained just like the Sequential model."
   ]
  },
  {
   "cell_type": "markdown",
   "metadata": {},
   "source": [
    "# 1. Build Model with Input & Output Tensors"
   ]
  },
  {
   "cell_type": "code",
   "execution_count": 13,
   "metadata": {},
   "outputs": [],
   "source": [
    "# starts from Input layer:\n",
    "# sample dimension is not considered for the `shape` argument,\n",
    "# but counted in the return shape: [None, 28*28] \n",
    "inputs = tf.keras.Input(shape=(28*28,)) \n",
    "\n",
    "# hidden layer 1\n",
    "x = tf.keras.layers.Dense(256, activation='relu')(inputs)\n",
    "\n",
    "# hidden layer 2\n",
    "x = tf.keras.layers.Dense(128, activation='relu')(x)\n",
    "\n",
    "# output layer\n",
    "x = tf.keras.layers.Dense(10)(x)\n",
    "outputs = tf.keras.layers.Softmax()(x)\n",
    "\n",
    "# build model by passing inputs and outputs tansor\n",
    "model = tf.keras.Model(inputs=inputs, outputs=outputs)"
   ]
  },
  {
   "cell_type": "code",
   "execution_count": 14,
   "metadata": {},
   "outputs": [
    {
     "name": "stdout",
     "output_type": "stream",
     "text": [
      "Model: \"model_1\"\n",
      "_________________________________________________________________\n",
      "Layer (type)                 Output Shape              Param #   \n",
      "=================================================================\n",
      "input_3 (InputLayer)         [(None, 784)]             0         \n",
      "_________________________________________________________________\n",
      "dense_3 (Dense)              (None, 256)               200960    \n",
      "_________________________________________________________________\n",
      "dense_4 (Dense)              (None, 128)               32896     \n",
      "_________________________________________________________________\n",
      "dense_5 (Dense)              (None, 10)                1290      \n",
      "_________________________________________________________________\n",
      "softmax_1 (Softmax)          (None, 10)                0         \n",
      "=================================================================\n",
      "Total params: 235,146\n",
      "Trainable params: 235,146\n",
      "Non-trainable params: 0\n",
      "_________________________________________________________________\n"
     ]
    }
   ],
   "source": [
    "model.summary()\n",
    "# tf.keras.utils.plot_model(model, 'mnist_model.png')"
   ]
  },
  {
   "cell_type": "markdown",
   "metadata": {},
   "source": [
    "## 2. Train and Test Model"
   ]
  },
  {
   "cell_type": "code",
   "execution_count": 16,
   "metadata": {},
   "outputs": [
    {
     "name": "stdout",
     "output_type": "stream",
     "text": [
      "Train on 48000 samples, validate on 12000 samples\n",
      "Epoch 1/5\n",
      "48000/48000 [==============================] - 3s 62us/sample - loss: 1.4844 - accuracy: 0.9779 - val_loss: 1.4912 - val_accuracy: 0.9711\n",
      "Epoch 2/5\n",
      "48000/48000 [==============================] - 3s 53us/sample - loss: 1.4814 - accuracy: 0.9805 - val_loss: 1.4893 - val_accuracy: 0.9723\n",
      "Epoch 3/5\n",
      "48000/48000 [==============================] - 2s 52us/sample - loss: 1.4787 - accuracy: 0.9832 - val_loss: 1.4911 - val_accuracy: 0.9710\n",
      "Epoch 4/5\n",
      "48000/48000 [==============================] - 2s 51us/sample - loss: 1.4770 - accuracy: 0.9850 - val_loss: 1.4897 - val_accuracy: 0.9720\n",
      "Epoch 5/5\n",
      "48000/48000 [==============================] - 2s 50us/sample - loss: 1.4755 - accuracy: 0.9862 - val_loss: 1.4885 - val_accuracy: 0.9730\n"
     ]
    }
   ],
   "source": [
    "# load dataset\n",
    "mnist = tf.keras.datasets.mnist\n",
    "(x_train, y_train), (x_test, y_test) = mnist.load_data()\n",
    "x_train = x_train.reshape(60000, 28*28).astype('float32') / 255\n",
    "x_test = x_test.reshape(10000, 28*28).astype('float32') / 255\n",
    "\n",
    "# train\n",
    "model.compile(loss=tf.keras.losses.SparseCategoricalCrossentropy(from_logits=True),\n",
    "              optimizer=tf.keras.optimizers.RMSprop(),\n",
    "              metrics=['accuracy'])\n",
    "history = model.fit(x_train, y_train, batch_size=128, epochs=5, validation_split=0.2)"
   ]
  },
  {
   "cell_type": "code",
   "execution_count": 17,
   "metadata": {},
   "outputs": [
    {
     "name": "stdout",
     "output_type": "stream",
     "text": [
      "10000/10000 - 1s - loss: 1.4878 - accuracy: 0.9736\n"
     ]
    }
   ],
   "source": [
    "# test\n",
    "test_scores = model.evaluate(x_test, y_test, verbose=2) # loss, accuracy"
   ]
  },
  {
   "cell_type": "code",
   "execution_count": null,
   "metadata": {},
   "outputs": [],
   "source": []
  }
 ],
 "metadata": {
  "kernelspec": {
   "display_name": "Python 3",
   "language": "python",
   "name": "python3"
  },
  "language_info": {
   "codemirror_mode": {
    "name": "ipython",
    "version": 3
   },
   "file_extension": ".py",
   "mimetype": "text/x-python",
   "name": "python",
   "nbconvert_exporter": "python",
   "pygments_lexer": "ipython3",
   "version": "3.6.8"
  }
 },
 "nbformat": 4,
 "nbformat_minor": 4
}
