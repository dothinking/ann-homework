{
 "cells": [
  {
   "cell_type": "code",
   "execution_count": null,
   "source": [
    "import torch\r\n",
    "import torch.nn as nn\r\n",
    "from captcha_dataset import CaptchaData"
   ],
   "outputs": [],
   "metadata": {}
  },
  {
   "cell_type": "code",
   "execution_count": null,
   "source": [
    "# 1 create network\r\n",
    "class CNN(nn.Module):\r\n",
    "    def __init__(self):\r\n",
    "        super().__init__()\r\n",
    "        self.conv = nn.Sequential(# (N, 3, 60, 120)                \r\n",
    "                nn.Conv2d(3, 16, 3, padding=(1, 1)),\r\n",
    "                nn.MaxPool2d(2, 2),\r\n",
    "                nn.BatchNorm2d(16),\r\n",
    "                nn.ReLU(), # (N, 16, 30, 60)\r\n",
    "                \r\n",
    "                nn.Conv2d(16, 64, 3, padding=(1, 1)),\r\n",
    "                nn.MaxPool2d(2, 2),\r\n",
    "                nn.BatchNorm2d(64),\r\n",
    "                nn.ReLU(), # (N, 64, 15, 30)\r\n",
    "                \r\n",
    "                nn.Conv2d(64, 512, 3, padding=(1, 1)),\r\n",
    "                nn.MaxPool2d(2, 2),\r\n",
    "                nn.BatchNorm2d(512),\r\n",
    "                nn.ReLU(), # (N, 512, 7, 15)\r\n",
    "                \r\n",
    "                nn.Conv2d(512, 512, 3, padding=(1, 1)),\r\n",
    "                nn.MaxPool2d(2, 2),\r\n",
    "                nn.BatchNorm2d(512),\r\n",
    "                nn.ReLU(), # (N, 512, 3, 7)\r\n",
    "                )\r\n",
    "        self.fc = nn.Linear(512*3*7, 26*4)\r\n",
    "        \r\n",
    "    def forward(self, x):\r\n",
    "        x = self.conv(x)\r\n",
    "        x = x.view(x.size(0), -1)   # (N, 512*3*7)\r\n",
    "        x = self.fc(x)\r\n",
    "        return x"
   ],
   "outputs": [],
   "metadata": {}
  },
  {
   "cell_type": "code",
   "execution_count": null,
   "source": [
    "net = CNN()\r\n",
    "print(net)  # net architecture"
   ],
   "outputs": [],
   "metadata": {}
  },
  {
   "cell_type": "code",
   "execution_count": null,
   "source": [
    "# 2 load data\r\n",
    "from torch.utils.data import DataLoader\r\n",
    "\r\n",
    "train_dataset = CaptchaData('../samples/qq', train=True)\r\n",
    "test_dataset = CaptchaData('../samples/qq', train=False)\r\n",
    "\r\n",
    "# batch train/test data\r\n",
    "train_loader = DataLoader(dataset=train_dataset, batch_size=128, shuffle=True, num_workers=4)\r\n",
    "test_loader = DataLoader(dataset=test_dataset, batch_size=128, shuffle=True)"
   ],
   "outputs": [],
   "metadata": {}
  },
  {
   "cell_type": "code",
   "execution_count": null,
   "source": [
    "# 3 train and evaluate model\r\n",
    "def evaluate(output, target):\r\n",
    "    # one char per row\r\n",
    "    output, target = output.view(-1, 26), target.view(-1, 26)\r\n",
    "    output = nn.functional.softmax(output, dim=1)\r\n",
    "    output = torch.argmax(output, dim=1)\r\n",
    "    target = torch.argmax(target, dim=1)\r\n",
    "\r\n",
    "    # 4 char per row\r\n",
    "    output, target = output.view(-1, 4), target.view(-1, 4)\r\n",
    "    evaluation = [1 if torch.equal(i, j) else 0 for i, j in zip(target, output)]\r\n",
    "    return sum(evaluation) / len(evaluation)"
   ],
   "outputs": [],
   "metadata": {}
  },
  {
   "cell_type": "code",
   "execution_count": null,
   "source": [
    "# train and validation process\r\n",
    "from model import Model\r\n",
    "\r\n",
    "fun_loss = nn.MultiLabelSoftMarginLoss()\r\n",
    "optimizer = torch.optim.Adam(net.parameters(), lr=0.02)\r\n",
    "\r\n",
    "filename = 'model.pt'\r\n",
    "model = Model(model=net, optimizer=optimizer, loss=fun_loss, stored_model_filename=filename)\r\n",
    "model.fit(\r\n",
    "    epochs=5, \r\n",
    "    train_data=train_loader, \r\n",
    "    validate_data=test_loader, \r\n",
    "    fun_evaluate=evaluate,\r\n",
    "    output_step=100,\r\n",
    "    store_model_filename=filename)"
   ],
   "outputs": [],
   "metadata": {}
  },
  {
   "cell_type": "code",
   "execution_count": null,
   "source": [
    "# 4 prediction example\r\n",
    "import numpy as np\r\n",
    "import matplotlib.pyplot as plt\r\n",
    "%matplotlib inline\r\n",
    "\r\n",
    "def decode(tensor):\r\n",
    "    '''Decode tensor to label.'''\r\n",
    "    codes = tensor.cpu().detach().numpy()\r\n",
    "    label = ''\r\n",
    "    for i in range(4):\r\n",
    "        item = codes[i*26:(i+1)*26]\r\n",
    "        idx = np.argmax(item)\r\n",
    "        label += chr(ord('a')+idx)\r\n",
    "    return label\r\n",
    "\r\n",
    "num = 5\r\n",
    "plt.figure(figsize=(40, 20))\r\n",
    "for i in range(num**2):\r\n",
    "    image, label = train_dataset[i]\r\n",
    "\r\n",
    "    # predict labels\r\n",
    "    output = model.predict(image.unsqueeze(0))\r\n",
    "    predict_label = decode(output[0])\r\n",
    "    \r\n",
    "    # real labels\r\n",
    "    label = decode(label)\r\n",
    "\r\n",
    "    # plot\r\n",
    "    plt.subplot(num, num,i+1)\r\n",
    "    plt.xticks([])\r\n",
    "    plt.yticks([])\r\n",
    "    plt.grid(False)\r\n",
    "    plt.imshow(image.numpy().transpose(1,2,0))\r\n",
    "    plt.xlabel(predict_label, size=30)\r\n",
    "    \r\n",
    "    # mark error prediction with red border\r\n",
    "    if predict_label != label:\r\n",
    "        ax = plt.gca()\r\n",
    "        for name, border in ax.spines.items():\r\n",
    "            border.set_color('red')\r\n",
    "plt.show()"
   ],
   "outputs": [],
   "metadata": {}
  }
 ],
 "metadata": {
  "orig_nbformat": 4,
  "language_info": {
   "name": "python",
   "version": "3.6.8",
   "mimetype": "text/x-python",
   "codemirror_mode": {
    "name": "ipython",
    "version": 3
   },
   "pygments_lexer": "ipython3",
   "nbconvert_exporter": "python",
   "file_extension": ".py"
  },
  "kernelspec": {
   "name": "python3",
   "display_name": "Python 3.6.8 64-bit"
  },
  "interpreter": {
   "hash": "0c9d8db05dfebc129cf9bbce5e1a2d1b6fc26aa76a4b80125bfb748781dcb1ae"
  }
 },
 "nbformat": 4,
 "nbformat_minor": 2
}