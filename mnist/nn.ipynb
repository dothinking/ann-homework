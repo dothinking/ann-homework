{
 "cells": [
  {
   "cell_type": "code",
   "execution_count": 20,
   "metadata": {},
   "outputs": [],
   "source": [
    "import tensorflow as tf\n",
    "from utils import mnist, MNIST, NN"
   ]
  },
  {
   "cell_type": "code",
   "execution_count": 21,
   "metadata": {},
   "outputs": [
    {
     "data": {
      "text/plain": [
       "'1.15.0'"
      ]
     },
     "execution_count": 21,
     "metadata": {},
     "output_type": "execute_result"
    }
   ],
   "source": [
    "tf.__version__"
   ]
  },
  {
   "cell_type": "code",
   "execution_count": 22,
   "metadata": {},
   "outputs": [
    {
     "data": {
      "text/plain": [
       "((10000, 784), (55000, 10))"
      ]
     },
     "execution_count": 22,
     "metadata": {},
     "output_type": "execute_result"
    }
   ],
   "source": [
    "# check the shape\n",
    "mnist.test.images.shape, mnist.train.labels.shape"
   ]
  },
  {
   "cell_type": "code",
   "execution_count": 23,
   "metadata": {},
   "outputs": [
    {
     "data": {
      "text/plain": [
       "(100, 784)"
      ]
     },
     "execution_count": 23,
     "metadata": {},
     "output_type": "execute_result"
    }
   ],
   "source": [
    "mnist.train.next_batch(100)[0].shape"
   ]
  },
  {
   "cell_type": "code",
   "execution_count": 24,
   "metadata": {},
   "outputs": [],
   "source": [
    "class Simple_NN(MNIST,NN):\n",
    "   \n",
    "    @staticmethod\n",
    "    def init_var(shape, name=None):\n",
    "        return tf.Variable(tf.random_normal(shape, stddev=0.01), name=name)\n",
    "    \n",
    "    def init_weights(self, n_input, n_output):\n",
    "        '''return tuple: (weights, biases)'''\n",
    "        num1, num2 = 200, 80\n",
    "        weights = {\n",
    "            'hidden1': self.init_var([n_input, num1], name='W1'),\n",
    "            'hidden2': self.init_var([num1, num2], name='W2'),\n",
    "            'output':  self.init_var([num2, n_output], name='W3')\n",
    "        }\n",
    "        biases = {\n",
    "            'hidden1': self.init_var([num1], name='b1'),\n",
    "            'hidden2': self.init_var([num2], name='b2'),\n",
    "            'output':  self.init_var([n_output], name='b3')\n",
    "        }        \n",
    "        return weights, biases\n",
    "    \n",
    "    def build_model(self, weights, biases):\n",
    "        ''' single hidden layer'''\n",
    "        # hidden layer 1\n",
    "        hidden_1 = tf.add(tf.matmul(self.sample_input, weights['hidden1']), biases['hidden1'])\n",
    "        hidden_1 = tf.nn.relu(hidden_1)\n",
    "        # hidden layer 2\n",
    "        hidden_2 = tf.add(tf.matmul(hidden_1, weights['hidden2']), biases['hidden2'])\n",
    "        hidden_2 = tf.nn.relu(hidden_2)\n",
    "        # output layer\n",
    "        return tf.nn.softmax(tf.add(tf.matmul(hidden_2, weights['output']), biases['output']))    "
   ]
  },
  {
   "cell_type": "code",
   "execution_count": 25,
   "metadata": {},
   "outputs": [
    {
     "name": "stdout",
     "output_type": "stream",
     "text": [
      "Epoch    100, Iter    12800: loss = 2.3021   training accuracy = 13.2812%\n",
      "Epoch    200, Iter    25600: loss = 2.3025   training accuracy = 10.1562%\n",
      "Epoch    300, Iter    38400: loss = 2.3020   training accuracy = 10.1562%\n",
      "Epoch    400, Iter    51200: loss = 2.3013   training accuracy = 8.5938%\n",
      "Epoch    500, Iter    64000: loss = 2.2691   training accuracy = 24.2188%\n",
      "Epoch    600, Iter    76800: loss = 2.1111   training accuracy = 36.7188%\n",
      "Epoch    700, Iter    89600: loss = 1.9882   training accuracy = 48.4375%\n",
      "Epoch    800, Iter   102400: loss = 1.7917   training accuracy = 70.3125%\n",
      "Epoch    900, Iter   115200: loss = 1.7109   training accuracy = 76.5625%\n",
      "Epoch   1000, Iter   128000: loss = 1.6498   training accuracy = 82.8125%\n"
     ]
    },
    {
     "data": {
      "text/plain": [
       "0.7721"
      ]
     },
     "execution_count": 25,
     "metadata": {},
     "output_type": "execute_result"
    }
   ],
   "source": [
    "network = Simple_NN(28*28, 10, 'ckpt_nn')\n",
    "\n",
    "# initial accuracy\n",
    "# network.test(mnist.test.images, mnist.test.labels)\n",
    "\n",
    "# train\n",
    "network.train(mnist.train.next_batch, batch_size = 128, \n",
    "              epochs = 1000, \n",
    "              display_interval = 100, \n",
    "              restore_model = False,\n",
    "              save_model = True,\n",
    "              save_interval = 500)\n",
    "\n",
    "# final accuracy\n",
    "network.test(mnist.test.images, mnist.test.labels)"
   ]
  },
  {
   "cell_type": "code",
   "execution_count": null,
   "metadata": {},
   "outputs": [],
   "source": []
  }
 ],
 "metadata": {
  "kernelspec": {
   "display_name": "Python 3",
   "language": "python",
   "name": "python3"
  },
  "language_info": {
   "codemirror_mode": {
    "name": "ipython",
    "version": 3
   },
   "file_extension": ".py",
   "mimetype": "text/x-python",
   "name": "python",
   "nbconvert_exporter": "python",
   "pygments_lexer": "ipython3",
   "version": "3.6.8"
  }
 },
 "nbformat": 4,
 "nbformat_minor": 4
}
