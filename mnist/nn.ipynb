{
 "cells": [
  {
   "cell_type": "code",
   "execution_count": 1,
   "metadata": {},
   "outputs": [
    {
     "name": "stdout",
     "output_type": "stream",
     "text": [
      "WARNING:tensorflow:From D:\\22_Test_Space\\exercise_tf\\Workspace\\mnist\\utils.py:6: read_data_sets (from tensorflow.contrib.learn.python.learn.datasets.mnist) is deprecated and will be removed in a future version.\n",
      "Instructions for updating:\n",
      "Please use alternatives such as official/mnist/dataset.py from tensorflow/models.\n",
      "WARNING:tensorflow:From d:\\22_test_space\\exercise_tf\\lib\\site-packages\\tensorflow_core\\contrib\\learn\\python\\learn\\datasets\\mnist.py:260: maybe_download (from tensorflow.contrib.learn.python.learn.datasets.base) is deprecated and will be removed in a future version.\n",
      "Instructions for updating:\n",
      "Please write your own downloading logic.\n",
      "WARNING:tensorflow:From d:\\22_test_space\\exercise_tf\\lib\\site-packages\\tensorflow_core\\contrib\\learn\\python\\learn\\datasets\\mnist.py:262: extract_images (from tensorflow.contrib.learn.python.learn.datasets.mnist) is deprecated and will be removed in a future version.\n",
      "Instructions for updating:\n",
      "Please use tf.data to implement this functionality.\n",
      "Extracting dataset/train-images-idx3-ubyte.gz\n",
      "WARNING:tensorflow:From d:\\22_test_space\\exercise_tf\\lib\\site-packages\\tensorflow_core\\contrib\\learn\\python\\learn\\datasets\\mnist.py:267: extract_labels (from tensorflow.contrib.learn.python.learn.datasets.mnist) is deprecated and will be removed in a future version.\n",
      "Instructions for updating:\n",
      "Please use tf.data to implement this functionality.\n",
      "Extracting dataset/train-labels-idx1-ubyte.gz\n",
      "WARNING:tensorflow:From d:\\22_test_space\\exercise_tf\\lib\\site-packages\\tensorflow_core\\contrib\\learn\\python\\learn\\datasets\\mnist.py:110: dense_to_one_hot (from tensorflow.contrib.learn.python.learn.datasets.mnist) is deprecated and will be removed in a future version.\n",
      "Instructions for updating:\n",
      "Please use tf.one_hot on tensors.\n",
      "Extracting dataset/t10k-images-idx3-ubyte.gz\n",
      "Extracting dataset/t10k-labels-idx1-ubyte.gz\n",
      "WARNING:tensorflow:From d:\\22_test_space\\exercise_tf\\lib\\site-packages\\tensorflow_core\\contrib\\learn\\python\\learn\\datasets\\mnist.py:290: DataSet.__init__ (from tensorflow.contrib.learn.python.learn.datasets.mnist) is deprecated and will be removed in a future version.\n",
      "Instructions for updating:\n",
      "Please use alternatives such as official/mnist/dataset.py from tensorflow/models.\n"
     ]
    }
   ],
   "source": [
    "import tensorflow as tf\n",
    "import numpy as np\n",
    "from utils import mnist, MNIST, NN"
   ]
  },
  {
   "cell_type": "code",
   "execution_count": 2,
   "metadata": {},
   "outputs": [
    {
     "data": {
      "text/plain": [
       "'1.15.0'"
      ]
     },
     "execution_count": 2,
     "metadata": {},
     "output_type": "execute_result"
    }
   ],
   "source": [
    "tf.__version__"
   ]
  },
  {
   "cell_type": "code",
   "execution_count": 3,
   "metadata": {},
   "outputs": [
    {
     "data": {
      "text/plain": [
       "((10000, 784), (55000, 10))"
      ]
     },
     "execution_count": 3,
     "metadata": {},
     "output_type": "execute_result"
    }
   ],
   "source": [
    "# check the shape\n",
    "mnist.test.images.shape, mnist.train.labels.shape"
   ]
  },
  {
   "cell_type": "code",
   "execution_count": 12,
   "metadata": {},
   "outputs": [
    {
     "data": {
      "text/plain": [
       "(100, 784)"
      ]
     },
     "execution_count": 12,
     "metadata": {},
     "output_type": "execute_result"
    }
   ],
   "source": [
    "mnist.train.next_batch(100)[0].shape"
   ]
  },
  {
   "cell_type": "code",
   "execution_count": 4,
   "metadata": {},
   "outputs": [],
   "source": [
    "class Simple_NN(MNIST,NN):\n",
    "   \n",
    "    @staticmethod\n",
    "    def init_var(shape, name=None):\n",
    "        return tf.Variable(tf.random_normal(shape, stddev=0.01), name=name)\n",
    "    \n",
    "    def init_weights(self, n_input, n_output):\n",
    "        '''return tuple: (weights, biases)'''\n",
    "        num1, num2 = 200, 80\n",
    "        weights = {\n",
    "            'hidden1': self.init_var([n_input, num1], name='W1'),\n",
    "            'hidden2': self.init_var([num1, num2], name='W2'),\n",
    "            'output':  self.init_var([num2, n_output], name='W3')\n",
    "        }\n",
    "        biases = {\n",
    "            'hidden1': self.init_var([num1], name='b1'),\n",
    "            'hidden2': self.init_var([num2], name='b2'),\n",
    "            'output':  self.init_var([n_output], name='b3')\n",
    "        }        \n",
    "        return weights, biases\n",
    "    \n",
    "    def build_model(self, weights, biases):\n",
    "        ''' single hidden layer'''\n",
    "        # hidden layer 1\n",
    "        hidden_1 = tf.add(tf.matmul(self.sample_input, weights['hidden1']), biases['hidden1'])\n",
    "        hidden_1 = tf.nn.relu(hidden_1)\n",
    "        # hidden layer 2\n",
    "        hidden_2 = tf.add(tf.matmul(hidden_1, weights['hidden2']), biases['hidden2'])\n",
    "        hidden_2 = tf.nn.relu(hidden_2)\n",
    "        # output layer\n",
    "        return tf.nn.softmax(tf.add(tf.matmul(hidden_2, weights['output']), biases['output']))    "
   ]
  },
  {
   "cell_type": "code",
   "execution_count": 15,
   "metadata": {},
   "outputs": [
    {
     "name": "stdout",
     "output_type": "stream",
     "text": [
      "INFO:tensorflow:Restoring parameters from ckpt_nn\\model-1000\n",
      "Epoch    200, Iter    10000: loss = 1.5364   training accuracy = 92.0000%\n",
      "Epoch    400, Iter    20000: loss = 1.4675   training accuracy = 100.0000%\n",
      "Epoch    600, Iter    30000: loss = 1.5059   training accuracy = 96.0000%\n",
      "Epoch    800, Iter    40000: loss = 1.5020   training accuracy = 96.0000%\n",
      "Epoch   1000, Iter    50000: loss = 1.4857   training accuracy = 98.0000%\n"
     ]
    },
    {
     "data": {
      "text/plain": [
       "0.9424"
      ]
     },
     "execution_count": 15,
     "metadata": {},
     "output_type": "execute_result"
    }
   ],
   "source": [
    "network = Simple_NN(28*28, 10, 'ckpt_nn')\n",
    "\n",
    "# initial accuracy\n",
    "# network.test(mnist.test.images, mnist.test.labels)\n",
    "\n",
    "# train\n",
    "network.train(mnist.train.next_batch, batch_size = 50, \n",
    "              epochs = 1000, \n",
    "              display_interval = 200, \n",
    "              restore_model = True,\n",
    "              save_model = True,\n",
    "              save_interval = 500)\n",
    "\n",
    "# final accuracy\n",
    "network.test(mnist.test.images, mnist.test.labels)"
   ]
  },
  {
   "cell_type": "code",
   "execution_count": null,
   "metadata": {},
   "outputs": [],
   "source": []
  },
  {
   "cell_type": "code",
   "execution_count": null,
   "metadata": {},
   "outputs": [],
   "source": []
  }
 ],
 "metadata": {
  "kernelspec": {
   "display_name": "Python 3",
   "language": "python",
   "name": "python3"
  },
  "language_info": {
   "codemirror_mode": {
    "name": "ipython",
    "version": 3
   },
   "file_extension": ".py",
   "mimetype": "text/x-python",
   "name": "python",
   "nbconvert_exporter": "python",
   "pygments_lexer": "ipython3",
   "version": "3.6.8"
  }
 },
 "nbformat": 4,
 "nbformat_minor": 4
}
