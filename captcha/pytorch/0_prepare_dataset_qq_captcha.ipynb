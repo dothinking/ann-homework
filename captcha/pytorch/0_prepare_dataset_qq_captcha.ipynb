{
 "cells": [
  {
   "cell_type": "markdown",
   "source": [
    "# Prepare customized dataset with `torch.utils.data.Dataset`\r\n",
    "\r\n",
    "- images path: ../samples/qq\r\n",
    "- image label: 4 characters in range `a-z`"
   ],
   "metadata": {}
  },
  {
   "cell_type": "code",
   "execution_count": 1,
   "source": [
    "import os\r\n",
    "import torch\r\n",
    "from torch.utils.data import Dataset"
   ],
   "outputs": [],
   "metadata": {}
  },
  {
   "cell_type": "code",
   "execution_count": 47,
   "source": [
    "IMAGE_W, IMAGE_H = 120, 60\r\n",
    "\r\n",
    "NUM_CLASS = ord('z')-ord('a')+1\r\n",
    "NUM_CHAR = 4\r\n",
    "print(NUM_CLASS)"
   ],
   "outputs": [
    {
     "output_type": "stream",
     "name": "stdout",
     "text": [
      "26\n"
     ]
    }
   ],
   "metadata": {}
  },
  {
   "cell_type": "code",
   "execution_count": 55,
   "source": [
    "# 1. Customized Dataset\r\n",
    "import random\r\n",
    "import cv2\r\n",
    "import numpy as np\r\n",
    "\r\n",
    "\r\n",
    "def encode(label):\r\n",
    "    '''Encode label.'''\r\n",
    "    res = []\r\n",
    "    for c in label:\r\n",
    "        item = [0] * NUM_CLASS\r\n",
    "        item[ord(c)-ord('a')] = 1\r\n",
    "        res.extend(item)\r\n",
    "    return torch.Tensor(res)\r\n",
    "\r\n",
    "\r\n",
    "def decode(tensor):\r\n",
    "    '''Decode tensor to label.'''\r\n",
    "    codes = tensor.numpy()\r\n",
    "    label = ''\r\n",
    "    for i in range(NUM_CHAR):\r\n",
    "        item = codes[i*NUM_CLASS:(i+1)*NUM_CLASS]\r\n",
    "        idx = np.argmax(item)\r\n",
    "        label += chr(ord('a')+idx)\r\n",
    "    return label\r\n",
    "\r\n",
    "\r\n",
    "class CaptchaData(Dataset):\r\n",
    "    def __init__(self, root:str, train:bool=True, create_index:bool=False):\r\n",
    "        '''User defined dataset.\r\n",
    "\r\n",
    "        Args:\r\n",
    "            root (str): Image path.\r\n",
    "            train (bool, optional): Training set if true, otherwise testing set. Defaults to True.\r\n",
    "            create_index (bool, optional): Create index file for training / testing set. Defaults to False.\r\n",
    "        '''\r\n",
    "        super().__init__()\r\n",
    "        self.root = root\r\n",
    "\r\n",
    "        # create image index file only once\r\n",
    "        top = os.path.dirname(root)\r\n",
    "        train_index_file = os.path.join(top, 'train.index')\r\n",
    "        test_index_file = os.path.join(top, 'test.index')\r\n",
    "        if create_index:\r\n",
    "            self.__create_index_files(train_index_file, test_index_file, 0.9)\r\n",
    "        \r\n",
    "        # data items, e.g., ['abcd', ..., ]\r\n",
    "        self.labels = self.__load_labels(train_index_file if train else test_index_file)\r\n",
    "\r\n",
    "\r\n",
    "    def __len__(self):\r\n",
    "        return len(self.labels)\r\n",
    "    \r\n",
    "    def __getitem__(self, idx:int):\r\n",
    "        label = self.labels[idx]\r\n",
    "        return self.__load_image(label), encode(label)\r\n",
    "\r\n",
    "    \r\n",
    "    def __load_image(self, label):\r\n",
    "        '''Load image data based on label. Note the conversion from opencv space to pytorch.'''\r\n",
    "        img_path = os.path.join(self.root, f'{label}.jpg')\r\n",
    "        img = cv2.imread(img_path)\r\n",
    "        img = cv2.cvtColor(img, cv2.COLOR_BGR2RGB) # BGR -> RGB\r\n",
    "        img = cv2.resize(img, (IMAGE_W,IMAGE_H))\r\n",
    "        img = img.transpose(2, 0, 1) # shape: H, W, C -> C, H, W\r\n",
    "        return torch.from_numpy(img/255.0).float()\r\n",
    "\r\n",
    "\r\n",
    "    def __load_labels(self, index_file):\r\n",
    "        '''Load labels from index file.'''\r\n",
    "        # load labels from index file\r\n",
    "        with open(index_file, 'r') as f: samples = f.read().splitlines()\r\n",
    "        return samples\r\n",
    "\r\n",
    "\r\n",
    "    def __create_index_files(self, \r\n",
    "            train_index_file:str, \r\n",
    "            test_index_file:str, \r\n",
    "            train_rate:float=0.9):\r\n",
    "        # load and shuffle all captcha images\r\n",
    "        labels = [filename[0:NUM_CHAR] for filename in os.listdir(self.root) if filename.endswith('.jpg')]\r\n",
    "        random.shuffle(labels)\r\n",
    "\r\n",
    "        # split into training and testing set\r\n",
    "        pos = int(len(labels)*train_rate)\r\n",
    "        with open(train_index_file, 'w') as f: f.write('\\n'.join(labels[:pos]))\r\n",
    "        with open(test_index_file, 'w') as f: f.write('\\n'.join(labels[pos:]))\r\n"
   ],
   "outputs": [],
   "metadata": {}
  },
  {
   "cell_type": "code",
   "execution_count": 56,
   "source": [
    "run_once = False\r\n",
    "train_dataset = CaptchaData('../samples/qq', train=True, create_index=run_once)\r\n",
    "test_dataset = CaptchaData('../samples/qq', train=False, create_index=run_once)"
   ],
   "outputs": [],
   "metadata": {}
  },
  {
   "cell_type": "code",
   "execution_count": 57,
   "source": [
    "print(len(train_dataset), len(test_dataset))"
   ],
   "outputs": [
    {
     "output_type": "stream",
     "name": "stdout",
     "text": [
      "90573 10064\n"
     ]
    }
   ],
   "metadata": {}
  },
  {
   "cell_type": "code",
   "execution_count": 58,
   "source": [
    "import matplotlib.pyplot as plt\r\n",
    "%matplotlib inline\r\n",
    "\r\n",
    "for image, label in train_dataset:\r\n",
    "    print(image.size(), label.size())\r\n",
    "\r\n",
    "    # show image\r\n",
    "    plt.imshow(image.numpy().transpose(1,2,0)) # C, H, W -> H, W, C\r\n",
    "    plt.grid(False)\r\n",
    "    plt.xticks([])\r\n",
    "    plt.yticks([])\r\n",
    "    plt.xlabel(decode(label))\r\n",
    "    plt.show()\r\n",
    "    \r\n",
    "    break"
   ],
   "outputs": [
    {
     "output_type": "stream",
     "name": "stdout",
     "text": [
      "torch.Size([3, 60, 120]) torch.Size([104])\n"
     ]
    },
    {
     "output_type": "display_data",
     "data": {
      "image/png": "[encoded data removed]",
      "text/plain": [
       "<Figure size 432x288 with 1 Axes>"
      ]
     },
     "metadata": {}
    }
   ],
   "metadata": {}
  },
  {
   "cell_type": "code",
   "execution_count": 67,
   "source": [
    "# 2. Data Loader\r\n",
    "from torch.utils.data import DataLoader\r\n",
    "\r\n",
    "BATCH_SIZE = 32\r\n",
    "train_data_loader = DataLoader(train_dataset, batch_size=BATCH_SIZE, shuffle=True)\r\n",
    "test_data_loader = DataLoader(test_dataset, batch_size=BATCH_SIZE, shuffle=True)\r\n",
    "\r\n",
    "print(len(train_data_loader), int(len(train_dataset)/BATCH_SIZE))"
   ],
   "outputs": [
    {
     "output_type": "stream",
     "name": "stdout",
     "text": [
      "2831 2830\n"
     ]
    }
   ],
   "metadata": {}
  },
  {
   "cell_type": "code",
   "execution_count": 69,
   "source": [
    "for batch_img, batch_label in train_data_loader:\r\n",
    "    print(batch_img.size())\r\n",
    "    print(batch_label.size())\r\n",
    "    for img in batch_img:\r\n",
    "        print(img.size())\r\n",
    "        break\r\n",
    "    break"
   ],
   "outputs": [
    {
     "output_type": "stream",
     "name": "stdout",
     "text": [
      "torch.Size([32, 3, 60, 120])\n",
      "torch.Size([32, 104])\n",
      "torch.Size([3, 60, 120])\n"
     ]
    }
   ],
   "metadata": {}
  }
 ],
 "metadata": {
  "orig_nbformat": 4,
  "language_info": {
   "name": "python",
   "version": "3.6.8",
   "mimetype": "text/x-python",
   "codemirror_mode": {
    "name": "ipython",
    "version": 3
   },
   "pygments_lexer": "ipython3",
   "nbconvert_exporter": "python",
   "file_extension": ".py"
  },
  "kernelspec": {
   "name": "python3",
   "display_name": "Python 3.6.8 64-bit"
  },
  "interpreter": {
   "hash": "0c9d8db05dfebc129cf9bbce5e1a2d1b6fc26aa76a4b80125bfb748781dcb1ae"
  }
 },
 "nbformat": 4,
 "nbformat_minor": 2
}