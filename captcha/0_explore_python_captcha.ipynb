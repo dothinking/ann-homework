{
 "cells": [
  {
   "cell_type": "markdown",
   "metadata": {},
   "source": [
    "# Explore genrating captch with Python module `captcha`\n",
    "\n",
    "- Generate captcha\n",
    "- Save captcha\n",
    "- Create captcha in batch mode"
   ]
  },
  {
   "cell_type": "code",
   "execution_count": 14,
   "metadata": {},
   "outputs": [],
   "source": [
    "from captcha.image import ImageCaptcha\n",
    "import matplotlib.pyplot as plt\n",
    "import random\n",
    "import string"
   ]
  },
  {
   "cell_type": "markdown",
   "metadata": {},
   "source": [
    "## 1. Generate captcha"
   ]
  },
  {
   "cell_type": "code",
   "execution_count": 41,
   "metadata": {},
   "outputs": [],
   "source": [
    "width, height = 120, 60\n",
    "n_len = 4\n",
    "\n",
    "# characters: digits, upper, lower alphabet\n",
    "characters = string.digits + string.ascii_uppercase + string.ascii_lowercase\n",
    "\n",
    "# create captcha with four random characters\n",
    "labels = ''.join([random.choice(characters) for j in range(4)])\n",
    "\n",
    "# captcha generator\n",
    "generator = ImageCaptcha(width=width,height=height)\n",
    "image = generator.generate_image(labels)"
   ]
  },
  {
   "cell_type": "code",
   "execution_count": 42,
   "metadata": {},
   "outputs": [
    {
     "data": {
      "image/png": "[encoded data removed]",
      "text/plain": [
       "<Figure size 432x288 with 1 Axes>"
      ]
     },
     "metadata": {},
     "output_type": "display_data"
    }
   ],
   "source": [
    "# show images\n",
    "plt.imshow(image)\n",
    "plt.title(labels)\n",
    "plt.xticks([])\n",
    "plt.yticks([])\n",
    "plt.show()"
   ]
  },
  {
   "cell_type": "markdown",
   "metadata": {},
   "source": [
    "## 2. Save captcha"
   ]
  },
  {
   "cell_type": "code",
   "execution_count": 43,
   "metadata": {},
   "outputs": [],
   "source": [
    "# write to file\n",
    "lower_labels = [c.lower() for c in labels]\n",
    "filename = f'{\"\".join(lower_labels)}.jpg'\n",
    "image.save(filename)"
   ]
  },
  {
   "cell_type": "markdown",
   "metadata": {},
   "source": [
    "## 3. Create Captcha in Batch Mode"
   ]
  },
  {
   "cell_type": "code",
   "execution_count": 49,
   "metadata": {},
   "outputs": [],
   "source": [
    "import os\n",
    "def generate_captcha_samples(image_dir, # storing folder\n",
    "                             num=1000,  # count of captcha\n",
    "                             label=1): # 1-digits, 2-lower case alphabet, 4-upper case alphabet\n",
    "    '''create captcha image file with labels as name'''\n",
    "    # random captcha labels\n",
    "    # combination of single label mode, \n",
    "    # e.g. 3=1+2, both digits and lower case alphabet are allowed\n",
    "    modes = [0b1, 0b10, 0b100]\n",
    "    sources = [string.digits, string.ascii_lowercase, string.ascii_uppercase]\n",
    "    if label<1: label = 1\n",
    "    if label>7: label = 7\n",
    "    characters = ''\n",
    "    for mode, source in zip(modes, sources):\n",
    "        if label & mode: characters += source\n",
    "            \n",
    "    # create captcha with four random characters\n",
    "    generator = ImageCaptcha(width=width,height=height)\n",
    "    for i in range(num):\n",
    "        labels = ''.join([random.choice(characters) for j in range(4)])\n",
    "        image = generator.generate_image(labels)\n",
    "        # write file\n",
    "        lower_labels = [c.lower() for c in labels]\n",
    "        filename = f'{\"\".join(lower_labels)}.jpg'\n",
    "        image.save(os.path.join(image_dir, filename))"
   ]
  },
  {
   "cell_type": "code",
   "execution_count": 59,
   "metadata": {},
   "outputs": [],
   "source": [
    "generate_captcha_samples('samples/captcha', 100000, 6) # lower + upper"
   ]
  },
  {
   "cell_type": "code",
   "execution_count": null,
   "metadata": {},
   "outputs": [],
   "source": []
  }
 ],
 "metadata": {
  "kernelspec": {
   "display_name": "Python 3",
   "language": "python",
   "name": "python3"
  },
  "language_info": {
   "codemirror_mode": {
    "name": "ipython",
    "version": 3
   },
   "file_extension": ".py",
   "mimetype": "text/x-python",
   "name": "python",
   "nbconvert_exporter": "python",
   "pygments_lexer": "ipython3",
   "version": "3.6.8"
  }
 },
 "nbformat": 4,
 "nbformat_minor": 4
}
